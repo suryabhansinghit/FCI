{
 "cells": [
  {
   "cell_type": "markdown",
   "id": "3945e424",
   "metadata": {},
   "source": [
    "# EXPERIMENT 4 Data Fitting"
   ]
  },
  {
   "cell_type": "code",
   "execution_count": 1,
   "id": "2f76553a",
   "metadata": {},
   "outputs": [],
   "source": [
    "from pylab import*\n",
    "from scipy.optimize import curve_fit"
   ]
  },
  {
   "cell_type": "code",
   "execution_count": 3,
   "id": "3c83f16e",
   "metadata": {},
   "outputs": [],
   "source": [
    "x_data,y_data =loadtxt('data',unpack=True)"
   ]
  },
  {
   "cell_type": "code",
   "execution_count": 4,
   "id": "4e78a65a",
   "metadata": {},
   "outputs": [
    {
     "data": {
      "text/plain": [
       "array([12.299, 11.399, 10.899, 10.299,  9.499,  9.199])"
      ]
     },
     "execution_count": 4,
     "metadata": {},
     "output_type": "execute_result"
    }
   ],
   "source": [
    "x_data"
   ]
  },
  {
   "cell_type": "code",
   "execution_count": 5,
   "id": "432f4ff3",
   "metadata": {},
   "outputs": [
    {
     "data": {
      "text/plain": [
       "array([3.199, 2.599, 2.25 , 1.809, 1.309, 1.119])"
      ]
     },
     "execution_count": 5,
     "metadata": {},
     "output_type": "execute_result"
    }
   ],
   "source": [
    "y_data"
   ]
  },
  {
   "cell_type": "code",
   "execution_count": 7,
   "id": "be388a46",
   "metadata": {},
   "outputs": [
    {
     "data": {
      "text/plain": [
       "5"
      ]
     },
     "execution_count": 7,
     "metadata": {},
     "output_type": "execute_result"
    }
   ],
   "source": [
    "def linearfunction(x,intercept,slope):\n",
    "    y = intercept+slope * x\n",
    "    return y\n",
    "\n",
    "linearfunction(1,2,3)"
   ]
  },
  {
   "cell_type": "code",
   "execution_count": 8,
   "id": "7694d22d",
   "metadata": {},
   "outputs": [],
   "source": [
    "a_fit,cov=curve_fit(linearfunction,x_data,y_data)"
   ]
  },
  {
   "cell_type": "code",
   "execution_count": 9,
   "id": "1c94d003",
   "metadata": {},
   "outputs": [
    {
     "name": "stdout",
     "output_type": "stream",
     "text": [
      "[-5.10574661  0.67489826]\n"
     ]
    }
   ],
   "source": [
    "print(a_fit)"
   ]
  },
  {
   "cell_type": "code",
   "execution_count": 10,
   "id": "e27b123f",
   "metadata": {},
   "outputs": [
    {
     "name": "stdout",
     "output_type": "stream",
     "text": [
      "[[ 7.14409489e-03 -6.67224304e-04]\n",
      " [-6.67224304e-04  6.29516283e-05]]\n"
     ]
    }
   ],
   "source": [
    "print(cov)"
   ]
  },
  {
   "cell_type": "code",
   "execution_count": 12,
   "id": "b18e596a",
   "metadata": {},
   "outputs": [],
   "source": [
    "inter =a_fit[0]\n",
    "slope =a_fit[1]"
   ]
  },
  {
   "cell_type": "code",
   "execution_count": 13,
   "id": "04a1db66",
   "metadata": {},
   "outputs": [],
   "source": [
    "d_inter = sqrt(cov[0][0])\n",
    "d_slope = sqrt(cov[1][1])"
   ]
  },
  {
   "cell_type": "code",
   "execution_count": 14,
   "id": "accc3615",
   "metadata": {},
   "outputs": [
    {
     "data": {
      "text/plain": [
       "0.007934206216041078"
      ]
     },
     "execution_count": 14,
     "metadata": {},
     "output_type": "execute_result"
    }
   ],
   "source": [
    "d_slope"
   ]
  },
  {
   "cell_type": "code",
   "execution_count": 15,
   "id": "10e7e9ec",
   "metadata": {},
   "outputs": [
    {
     "data": {
      "text/plain": [
       "Text(0.5, 1.0, 'plot with fit')"
      ]
     },
     "execution_count": 15,
     "metadata": {},
     "output_type": "execute_result"
    },
    {
     "data": {
      "image/png": "[encoded data removed]",
      "text/plain": [
       "<Figure size 432x288 with 1 Axes>"
      ]
     },
     "metadata": {
      "needs_background": "light"
     },
     "output_type": "display_data"
    }
   ],
   "source": [
    "plot(x_data,y_data,'ro',label='Data')\n",
    "yfit = inter + slope*x_data\n",
    "plot(x_data,yfit,label='Fit')\n",
    "legend()\n",
    "xlabel('x')\n",
    "ylabel('y')\n",
    "title('plot with fit')"
   ]
  },
  {
   "cell_type": "code",
   "execution_count": 16,
   "id": "ca21237a",
   "metadata": {},
   "outputs": [
    {
     "name": "stdout",
     "output_type": "stream",
     "text": [
      "Slope = 0.6748982558483031, Uncertainty 0.007934206216041078\n",
      "Intercept = -5.105746613736164, Uncertainty 0.08452274773954101\n"
     ]
    }
   ],
   "source": [
    "print(f'Slope = {slope}, Uncertainty {d_slope}')\n",
    "print(f'Intercept = {inter}, Uncertainty {d_inter}')"
   ]
  },
  {
   "cell_type": "markdown",
   "id": "ec469421",
   "metadata": {},
   "source": [
    "## With Error"
   ]
  },
  {
   "cell_type": "code",
   "execution_count": 17,
   "id": "9498b663",
   "metadata": {},
   "outputs": [],
   "source": [
    "xdata,ydata,d_y = loadtxt('datae',unpack=True)"
   ]
  },
  {
   "cell_type": "code",
   "execution_count": 18,
   "id": "b601f6f6",
   "metadata": {},
   "outputs": [],
   "source": [
    "def linearFunc(x,intercept,slope):\n",
    " y = intercept + slope * x\n",
    " return y"
   ]
  },
  {
   "cell_type": "code",
   "execution_count": 19,
   "id": "cc18252e",
   "metadata": {},
   "outputs": [
    {
     "name": "stdout",
     "output_type": "stream",
     "text": [
      "[12.299 11.399 10.899 10.299  9.499]\n",
      "[3.199 2.599 2.25  1.809 1.309]\n",
      "[0.0771 0.0459 0.0708 0.0783 0.0893]\n"
     ]
    }
   ],
   "source": [
    "print(xdata)\n",
    "print(ydata)\n",
    "print(d_y)"
   ]
  },
  {
   "cell_type": "code",
   "execution_count": 20,
   "id": "aecd1b9c",
   "metadata": {},
   "outputs": [],
   "source": [
    "def linearFunc(x,intercept,slope):\n",
    " y = intercept + slope * x\n",
    " return y"
   ]
  },
  {
   "cell_type": "code",
   "execution_count": 21,
   "id": "c0de59b4",
   "metadata": {},
   "outputs": [],
   "source": [
    "a_fit,cov=curve_fit(linearFunc,xdata,ydata,sigma=d_y)"
   ]
  },
  {
   "cell_type": "code",
   "execution_count": 22,
   "id": "d1e3a724",
   "metadata": {},
   "outputs": [],
   "source": [
    "inter = a_fit[0] \n",
    "slope = a_fit[1]\n",
    "d_inter = sqrt(cov[0][0])\n",
    "d_slope = sqrt(cov[1][1])"
   ]
  },
  {
   "cell_type": "code",
   "execution_count": 23,
   "id": "428aa5d9",
   "metadata": {},
   "outputs": [
    {
     "data": {
      "text/plain": [
       "Text(0, 0.5, 'y')"
      ]
     },
     "execution_count": 23,
     "metadata": {},
     "output_type": "execute_result"
    },
    {
     "data": {
      "image/png": "[encoded data removed]",
      "text/plain": [
       "<Figure size 432x288 with 1 Axes>"
      ]
     },
     "metadata": {
      "needs_background": "light"
     },
     "output_type": "display_data"
    }
   ],
   "source": [
    "errorbar(xdata,ydata,yerr=d_y,fmt='r.',label='Data')# Compute a best fit line from the fit intercept and slope.\n",
    "yfit = inter + slope*xdata\n",
    "plot(xdata,yfit,label='Fit')\n",
    "legend()\n",
    "xlabel('x')\n",
    "ylabel('y')"
   ]
  },
  {
   "cell_type": "code",
   "execution_count": 24,
   "id": "e39cf62f",
   "metadata": {},
   "outputs": [
    {
     "name": "stdout",
     "output_type": "stream",
     "text": [
      "Slope = 0.6838585770483732, Uncertainty 0.010154559972996142\n",
      "Intercept = -5.204263723855613, Uncertainty 0.11275574610984589\n"
     ]
    }
   ],
   "source": [
    "print(f'Slope = {slope}, Uncertainty {d_slope}')\n",
    "print(f'Intercept = {inter}, Uncertainty {d_inter}')"
   ]
  },
  {
   "cell_type": "code",
   "execution_count": 25,
   "id": "9daeac44",
   "metadata": {},
   "outputs": [
    {
     "name": "stdout",
     "output_type": "stream",
     "text": [
      "Reduced chi^2 = 0.07400804089852749\n"
     ]
    }
   ],
   "source": [
    "chisqr = sum((ydata-linearFunc(xdata,inter,slope))**2/d_y**2)\n",
    "dof = len(ydata) - 2\n",
    "chisqr_red = chisqr/dof\n",
    "print(f'Reduced chi^2 = {chisqr_red}')"
   ]
  },
  {
   "cell_type": "code",
   "execution_count": null,
   "id": "e06bda9d",
   "metadata": {},
   "outputs": [],
   "source": []
  }
 ],
 "metadata": {
  "kernelspec": {
   "display_name": "Python 3",
   "language": "python",
   "name": "python3"
  },
  "language_info": {
   "codemirror_mode": {
    "name": "ipython",
    "version": 3
   },
   "file_extension": ".py",
   "mimetype": "text/x-python",
   "name": "python",
   "nbconvert_exporter": "python",
   "pygments_lexer": "ipython3",
   "version": "3.8.8"
  }
 },
 "nbformat": 4,
 "nbformat_minor": 5
}
